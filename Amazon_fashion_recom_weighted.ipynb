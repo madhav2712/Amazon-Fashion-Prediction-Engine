{
 "cells": [
  {
   "cell_type": "markdown",
   "metadata": {},
   "source": [
    "# Objective\n",
    "- Build a weighted Nearest neighbor model using Image,Title,Brand and Color\n",
    "- Featurization to use\n",
    " - title:Idf-Word2vec\n",
    " - brand:one hot encoding\n",
    " - colour:one hot encoding\n",
    " - image: VGG-16 CNN"
   ]
  },
  {
   "cell_type": "code",
   "execution_count": 1,
   "metadata": {},
   "outputs": [
    {
     "data": {
      "text/html": [
       "<script>requirejs.config({paths: { 'plotly': ['https://cdn.plot.ly/plotly-latest.min']},});if(!window.Plotly) {{require(['plotly'],function(plotly) {window.Plotly=plotly;});}}</script>"
      ],
      "text/vnd.plotly.v1+html": [
       "<script>requirejs.config({paths: { 'plotly': ['https://cdn.plot.ly/plotly-latest.min']},});if(!window.Plotly) {{require(['plotly'],function(plotly) {window.Plotly=plotly;});}}</script>"
      ]
     },
     "metadata": {},
     "output_type": "display_data"
    }
   ],
   "source": [
    "#import all the necessary packages.\n",
    "\n",
    "from PIL import Image\n",
    "import requests\n",
    "from io import BytesIO\n",
    "import matplotlib.pyplot as plt\n",
    "import numpy as np\n",
    "import pandas as pd\n",
    "import warnings\n",
    "from bs4 import BeautifulSoup\n",
    "from nltk.corpus import stopwords\n",
    "from nltk.tokenize import word_tokenize\n",
    "import nltk\n",
    "import math\n",
    "import time\n",
    "import re\n",
    "import os\n",
    "import seaborn as sns\n",
    "from collections import Counter\n",
    "from sklearn.feature_extraction.text import CountVectorizer\n",
    "from sklearn.feature_extraction.text import TfidfVectorizer\n",
    "from sklearn.metrics.pairwise import cosine_similarity  \n",
    "from sklearn.metrics import pairwise_distances\n",
    "from matplotlib import gridspec\n",
    "from scipy.sparse import hstack\n",
    "import plotly\n",
    "import plotly.figure_factory as ff\n",
    "from plotly.graph_objs import Scatter, Layout\n",
    "\n",
    "plotly.offline.init_notebook_mode(connected=True)\n",
    "import requests\n",
    "import pickle\n",
    "warnings.filterwarnings(\"ignore\")"
   ]
  },
  {
   "cell_type": "code",
   "execution_count": null,
   "metadata": {},
   "outputs": [],
   "source": [
    "from gensim.models import Word2Vec\n",
    "from gensim.models import KeyedVectors\n",
    "\n",
    "from keras.preprocessing.image import ImageDataGenerator\n",
    "from keras.models import Sequential\n",
    "from keras.layers import Dropout, Flatten, Dense\n",
    "from keras import applications\n",
    "\n"
   ]
  },
  {
   "cell_type": "markdown",
   "metadata": {},
   "source": [
    "# Load the cleaned data"
   ]
  },
  {
   "cell_type": "code",
   "execution_count": 3,
   "metadata": {},
   "outputs": [
    {
     "data": {
      "text/html": [
       "<div>\n",
       "<style scoped>\n",
       "    .dataframe tbody tr th:only-of-type {\n",
       "        vertical-align: middle;\n",
       "    }\n",
       "\n",
       "    .dataframe tbody tr th {\n",
       "        vertical-align: top;\n",
       "    }\n",
       "\n",
       "    .dataframe thead th {\n",
       "        text-align: right;\n",
       "    }\n",
       "</style>\n",
       "<table border=\"1\" class=\"dataframe\">\n",
       "  <thead>\n",
       "    <tr style=\"text-align: right;\">\n",
       "      <th></th>\n",
       "      <th>asin</th>\n",
       "      <th>brand</th>\n",
       "      <th>color</th>\n",
       "      <th>medium_image_url</th>\n",
       "      <th>product_type_name</th>\n",
       "      <th>title</th>\n",
       "      <th>formatted_price</th>\n",
       "    </tr>\n",
       "  </thead>\n",
       "  <tbody>\n",
       "    <tr>\n",
       "      <th>4</th>\n",
       "      <td>B004GSI2OS</td>\n",
       "      <td>FeatherLite</td>\n",
       "      <td>Onyx Black/ Stone</td>\n",
       "      <td>https://images-na.ssl-images-amazon.com/images...</td>\n",
       "      <td>SHIRT</td>\n",
       "      <td>featherlite ladies long sleeve stain resistant...</td>\n",
       "      <td>$26.26</td>\n",
       "    </tr>\n",
       "    <tr>\n",
       "      <th>6</th>\n",
       "      <td>B012YX2ZPI</td>\n",
       "      <td>HX-Kingdom Fashion T-shirts</td>\n",
       "      <td>White</td>\n",
       "      <td>https://images-na.ssl-images-amazon.com/images...</td>\n",
       "      <td>SHIRT</td>\n",
       "      <td>womens unique 100 cotton  special olympics wor...</td>\n",
       "      <td>$9.99</td>\n",
       "    </tr>\n",
       "    <tr>\n",
       "      <th>15</th>\n",
       "      <td>B003BSRPB0</td>\n",
       "      <td>FeatherLite</td>\n",
       "      <td>White</td>\n",
       "      <td>https://images-na.ssl-images-amazon.com/images...</td>\n",
       "      <td>SHIRT</td>\n",
       "      <td>featherlite ladies moisture free mesh sport sh...</td>\n",
       "      <td>$20.54</td>\n",
       "    </tr>\n",
       "    <tr>\n",
       "      <th>27</th>\n",
       "      <td>B014ICEJ1Q</td>\n",
       "      <td>FNC7C</td>\n",
       "      <td>Purple</td>\n",
       "      <td>https://images-na.ssl-images-amazon.com/images...</td>\n",
       "      <td>SHIRT</td>\n",
       "      <td>supernatural chibis sam dean castiel neck tshi...</td>\n",
       "      <td>$7.39</td>\n",
       "    </tr>\n",
       "    <tr>\n",
       "      <th>46</th>\n",
       "      <td>B01NACPBG2</td>\n",
       "      <td>Fifth Degree</td>\n",
       "      <td>Black</td>\n",
       "      <td>https://images-na.ssl-images-amazon.com/images...</td>\n",
       "      <td>SHIRT</td>\n",
       "      <td>fifth degree womens gold foil graphic tees jun...</td>\n",
       "      <td>$6.95</td>\n",
       "    </tr>\n",
       "  </tbody>\n",
       "</table>\n",
       "</div>"
      ],
      "text/plain": [
       "          asin                        brand              color  \\\n",
       "4   B004GSI2OS                  FeatherLite  Onyx Black/ Stone   \n",
       "6   B012YX2ZPI  HX-Kingdom Fashion T-shirts              White   \n",
       "15  B003BSRPB0                  FeatherLite              White   \n",
       "27  B014ICEJ1Q                        FNC7C             Purple   \n",
       "46  B01NACPBG2                 Fifth Degree              Black   \n",
       "\n",
       "                                     medium_image_url product_type_name  \\\n",
       "4   https://images-na.ssl-images-amazon.com/images...             SHIRT   \n",
       "6   https://images-na.ssl-images-amazon.com/images...             SHIRT   \n",
       "15  https://images-na.ssl-images-amazon.com/images...             SHIRT   \n",
       "27  https://images-na.ssl-images-amazon.com/images...             SHIRT   \n",
       "46  https://images-na.ssl-images-amazon.com/images...             SHIRT   \n",
       "\n",
       "                                                title formatted_price  \n",
       "4   featherlite ladies long sleeve stain resistant...          $26.26  \n",
       "6   womens unique 100 cotton  special olympics wor...           $9.99  \n",
       "15  featherlite ladies moisture free mesh sport sh...          $20.54  \n",
       "27  supernatural chibis sam dean castiel neck tshi...           $7.39  \n",
       "46  fifth degree womens gold foil graphic tees jun...           $6.95  "
      ]
     },
     "execution_count": 3,
     "metadata": {},
     "output_type": "execute_result"
    }
   ],
   "source": [
    "data = pd.read_pickle('pickels/16k_apperal_data_preprocessed')\n",
    "data.head()"
   ]
  },
  {
   "cell_type": "markdown",
   "metadata": {},
   "source": [
    "# Featurization"
   ]
  },
  {
   "cell_type": "markdown",
   "metadata": {},
   "source": [
    "## Featurize 'title' using Idf-Word2Vec"
   ]
  },
  {
   "cell_type": "code",
   "execution_count": 4,
   "metadata": {},
   "outputs": [],
   "source": [
    "idf_title_vectorizer = CountVectorizer()\n",
    "idf_title_features = idf_title_vectorizer.fit_transform(data['title'])\n",
    "\n",
    "# idf_title_features.shape = #data_points * #words_in_corpus\n",
    "# CountVectorizer().fit_transform(courpus) returns the a sparase matrix of dimensions #data_points * #words_in_corpus\n",
    "# idf_title_features[doc_id, index_of_word_in_corpus] = number of times the word occured in that doc"
   ]
  },
  {
   "cell_type": "code",
   "execution_count": 5,
   "metadata": {},
   "outputs": [],
   "source": [
    "# in this project we are using a pretrained model by google\n",
    "# its 3.3G file, once you load this into your memory \n",
    "# it occupies ~9Gb, so please do this step only if you have >12G of ram\n",
    "# we will provide a pickle file which contains a dict , \n",
    "# and it contains all our courpus words as keys and  model[word] as values\n",
    "# To use this code-snippet, download \"GoogleNews-vectors-negative300.bin\" \n",
    "# from https://drive.google.com/file/d/0B7XkCwpI5KDYNlNUTTlSS21pQmM/edit\n",
    "# it's 1.9GB in size.\n",
    "\n",
    "\n",
    "#model = KeyedVectors.load_word2vec_format('GoogleNews-vectors-negative300.bin', binary=True)\n",
    "\n",
    "#if you do NOT have RAM >= 12GB, use the code below.\n",
    "\n",
    "with open('word2vec_model', 'rb') as handle:\n",
    "    model = pickle.load(handle)"
   ]
  },
  {
   "cell_type": "code",
   "execution_count": 6,
   "metadata": {},
   "outputs": [],
   "source": [
    "# vocab = stores all the words that are there in google w2v model\n",
    "# vocab = model.wv.vocab.keys() # if you are using Google word2Vec\n",
    "\n",
    "vocab = model.keys()\n",
    "# this function will add the vectors of each word and returns the avg vector of given sentance\n",
    "def build_avg_vec(sentence, num_features, doc_id, m_name):\n",
    "    # sentace: its title of the apparel\n",
    "    # num_features: the lenght of word2vec vector, its values = 300\n",
    "    # m_name: model information it will take two values\n",
    "        # if  m_name == 'avg', we will append the model[i], w2v representation of word i\n",
    "        # if m_name == 'weighted', we will multiply each w2v[word] with the idf(word)\n",
    "\n",
    "    featureVec = np.zeros((num_features,), dtype=\"float32\")\n",
    "    # we will intialize a vector of size 300 with all zeros\n",
    "    # we add each word2vec(wordi) to this fetureVec\n",
    "    nwords = 0\n",
    "    \n",
    "    for word in sentence.split():\n",
    "        nwords += 1\n",
    "        if word in vocab:\n",
    "            if m_name == 'weighted' and word in  idf_title_vectorizer.vocabulary_:\n",
    "                featureVec = np.add(featureVec, idf_title_features[doc_id, idf_title_vectorizer.vocabulary_[word]] * model[word])\n",
    "            elif m_name == 'avg':\n",
    "                featureVec = np.add(featureVec, model[word])\n",
    "    if(nwords>0):\n",
    "        featureVec = np.divide(featureVec, nwords)\n",
    "    # returns the avg vector of given sentance, its of shape (1, 300)\n",
    "    return featureVec"
   ]
  },
  {
   "cell_type": "code",
   "execution_count": 7,
   "metadata": {},
   "outputs": [],
   "source": [
    "doc_id = 0\n",
    "w2v_title_weight = []\n",
    "# for every title we build a weighted vector representation\n",
    "for i in data['title']:\n",
    "    w2v_title_weight.append(build_avg_vec(i, 300, doc_id,'weighted'))\n",
    "    doc_id += 1\n",
    "# w2v_title = np.array(# number of doc in courpus * 300), each row corresponds to a doc \n",
    "w2v_title_weight = np.array(w2v_title_weight)"
   ]
  },
  {
   "cell_type": "markdown",
   "metadata": {},
   "source": [
    "## Featurize 'brand' and 'color' using one-hot encoding"
   ]
  },
  {
   "cell_type": "code",
   "execution_count": 18,
   "metadata": {},
   "outputs": [],
   "source": [
    "# some of the brand values are empty. \n",
    "# Need to replace Null with string \"NULL\"\n",
    "data['brand'].fillna(value=\"Not given\", inplace=True )\n",
    "\n",
    "# replace spaces with hypen\n",
    "brands = [x.replace(\" \", \"-\") for x in data['brand'].values]\n",
    "colors = [x.replace(\" \", \"-\") for x in data['color'].values]\n",
    "types = [x.replace(\" \", \"-\") for x in data['product_type_name'].values]\n",
    "\n",
    "brand_vectorizer = CountVectorizer()\n",
    "brand_features = brand_vectorizer.fit_transform(brands)\n",
    "\n",
    "color_vectorizer = CountVectorizer()\n",
    "color_features = color_vectorizer.fit_transform(colors)\n",
    "\n",
    "type_vectorizer = CountVectorizer()\n",
    "type_features = type_vectorizer.fit_transform(types)"
   ]
  },
  {
   "cell_type": "markdown",
   "metadata": {},
   "source": [
    "## Feature 'images' using VGG-16 CNN"
   ]
  },
  {
   "cell_type": "code",
   "execution_count": 9,
   "metadata": {},
   "outputs": [
    {
     "data": {
      "text/plain": [
       "\"\\n# dimensions of our images.\\nimg_width, img_height = 224, 224\\n\\ntop_model_weights_path = 'bottleneck_fc_model.h5'\\ntrain_data_dir = 'images2/'\\nnb_train_samples = 16042\\nepochs = 50\\nbatch_size = 1\\n\\n\\ndef save_bottlebeck_features():\\n    asins = []\\n    datagen = ImageDataGenerator(rescale=1. / 255)\\n    \\n    # build the VGG16 network\\n    model = applications.VGG16(include_top=False, weights='imagenet')\\n    generator = datagen.flow_from_directory(\\n        train_data_dir,\\n        target_size=(img_width, img_height),\\n        batch_size=batch_size,\\n        class_mode=None,\\n        shuffle=False)\\n\\n    for i in generator.filenames:\\n        asins.append(i[2:-5])\\n\\n    bottleneck_features_train = model.predict_generator(generator, nb_train_samples // batch_size)\\n    bottleneck_features_train = bottleneck_features_train.reshape((16042,25088))\\n    \\n    np.save(open('workshop/models/16k_data_cnn_features.npy', 'wb'), bottleneck_features_train)\\n    np.save(open('workshop/models/16k_data_cnn_feature_asins.npy', 'wb'), np.array(asins))\\n    \\n\\nsave_bottlebeck_features()\\n\""
      ]
     },
     "execution_count": 9,
     "metadata": {},
     "output_type": "execute_result"
    }
   ],
   "source": [
    "# Running this cell will take time,so the files are saved and we can reuse\n",
    "\n",
    "# https://gist.github.com/fchollet/f35fbc80e066a49d65f1688a7e99f069\n",
    "# https://blog.keras.io/building-powerful-image-classification-models-using-very-little-data.html\n",
    "\n",
    "'''\n",
    "# dimensions of our images.\n",
    "img_width, img_height = 224, 224\n",
    "\n",
    "top_model_weights_path = 'bottleneck_fc_model.h5'\n",
    "train_data_dir = 'images2/'\n",
    "nb_train_samples = 16042\n",
    "epochs = 50\n",
    "batch_size = 1\n",
    "\n",
    "\n",
    "def save_bottlebeck_features():\n",
    "    asins = []\n",
    "    datagen = ImageDataGenerator(rescale=1. / 255)\n",
    "    \n",
    "    # build the VGG16 network\n",
    "    model = applications.VGG16(include_top=False, weights='imagenet')\n",
    "    generator = datagen.flow_from_directory(\n",
    "        train_data_dir,\n",
    "        target_size=(img_width, img_height),\n",
    "        batch_size=batch_size,\n",
    "        class_mode=None,\n",
    "        shuffle=False)\n",
    "\n",
    "    for i in generator.filenames:\n",
    "        asins.append(i[2:-5])\n",
    "\n",
    "    bottleneck_features_train = model.predict_generator(generator, nb_train_samples // batch_size)\n",
    "    bottleneck_features_train = bottleneck_features_train.reshape((16042,25088))\n",
    "    \n",
    "    np.save(open('workshop/models/16k_data_cnn_features.npy', 'wb'), bottleneck_features_train)\n",
    "    np.save(open('workshop/models/16k_data_cnn_feature_asins.npy', 'wb'), np.array(asins))\n",
    "    \n",
    "\n",
    "save_bottlebeck_features()\n",
    "'''"
   ]
  },
  {
   "cell_type": "code",
   "execution_count": 10,
   "metadata": {},
   "outputs": [],
   "source": [
    "bottleneck_features_train = np.load('16k_data_cnn_features.npy')\n",
    "asins = np.load('16k_data_cnn_feature_asins.npy')"
   ]
  },
  {
   "cell_type": "code",
   "execution_count": 52,
   "metadata": {},
   "outputs": [],
   "source": [
    "df_asins = list(data['asin'])\n",
    "asins = list(asins)"
   ]
  },
  {
   "cell_type": "markdown",
   "metadata": {},
   "source": [
    "# Weighted Similarity"
   ]
  },
  {
   "cell_type": "code",
   "execution_count": 12,
   "metadata": {},
   "outputs": [],
   "source": [
    "from IPython.display import display, Image, SVG, Math, YouTubeVideo\n",
    "from ipywidgets import widgets\n",
    "from ipywidgets import interact, interactive,fixed,interact_manual"
   ]
  },
  {
   "cell_type": "code",
   "execution_count": 135,
   "metadata": {
    "scrolled": false
   },
   "outputs": [
    {
     "data": {
      "image/jpeg": "[encoded data removed]",
      "text/plain": [
       "<IPython.core.display.Image object>"
      ]
     },
     "metadata": {},
     "output_type": "display_data"
    },
    {
     "name": "stdout",
     "output_type": "stream",
     "text": [
      "ASIN : B00JXQB5FQ\n",
      "Product Title:  burnt umber tiger tshirt zebra stripes xl  xxl \n",
      "Brand : Si Row\n",
      "Color : Brown\n",
      "Euclidean Distance from input image: 0.8787302983865323\n",
      "Amazon Url: www.amzon.com/dp/B00JXQB5FQ\n",
      "====================================================================================================\n"
     ]
    },
    {
     "data": {
      "image/jpeg": "[encoded data removed]",
      "text/plain": [
       "<IPython.core.display.Image object>"
      ]
     },
     "metadata": {},
     "output_type": "display_data"
    },
    {
     "name": "stdout",
     "output_type": "stream",
     "text": [
      "ASIN : B00JXQASS6\n",
      "Product Title:  pink tiger tshirt zebra stripes xl  xxl \n",
      "Brand : Si Row\n",
      "Color : Pink\n",
      "Euclidean Distance from input image: 13.450150888384401\n",
      "Amazon Url: www.amzon.com/dp/B00JXQASS6\n",
      "====================================================================================================\n"
     ]
    },
    {
     "data": {
      "image/jpeg": "[encoded data removed]",
      "text/plain": [
       "<IPython.core.display.Image object>"
      ]
     },
     "metadata": {},
     "output_type": "display_data"
    },
    {
     "name": "stdout",
     "output_type": "stream",
     "text": [
      "ASIN : B00JXQCUIC\n",
      "Product Title:  yellow tiger tshirt tiger stripes  l \n",
      "Brand : Si Row\n",
      "Color : Yellow\n",
      "Euclidean Distance from input image: 18.012345926057243\n",
      "Amazon Url: www.amzon.com/dp/B00JXQCUIC\n",
      "====================================================================================================\n"
     ]
    },
    {
     "data": {
      "image/jpeg": "[encoded data removed]",
      "text/plain": [
       "<IPython.core.display.Image object>"
      ]
     },
     "metadata": {},
     "output_type": "display_data"
    },
    {
     "name": "stdout",
     "output_type": "stream",
     "text": [
      "ASIN : B00JXQCWTO\n",
      "Product Title:  brown  white tiger tshirt tiger stripes xl  xxl \n",
      "Brand : Si Row\n",
      "Color : Brown\n",
      "Euclidean Distance from input image: 19.174543202647612\n",
      "Amazon Url: www.amzon.com/dp/B00JXQCWTO\n",
      "====================================================================================================\n"
     ]
    },
    {
     "data": {
      "image/jpeg": "[encoded data removed]",
      "text/plain": [
       "<IPython.core.display.Image object>"
      ]
     },
     "metadata": {},
     "output_type": "display_data"
    },
    {
     "name": "stdout",
     "output_type": "stream",
     "text": [
      "ASIN : B071FCWD97\n",
      "Product Title:  kawaii pastel tops tees pink flower design \n",
      "Brand : Namnoi Clothing Store\n",
      "Color : As Show\n",
      "Euclidean Distance from input image: 20.622412508097533\n",
      "Amazon Url: www.amzon.com/dp/B071FCWD97\n",
      "====================================================================================================\n"
     ]
    },
    {
     "data": {
      "image/jpeg": "[encoded data removed]",
      "text/plain": [
       "<IPython.core.display.Image object>"
      ]
     },
     "metadata": {},
     "output_type": "display_data"
    },
    {
     "name": "stdout",
     "output_type": "stream",
     "text": [
      "ASIN : B01JUNHBRM\n",
      "Product Title:  womens thin style tops tees pastel watermelon print \n",
      "Brand : Namnoi Clothing Store\n",
      "Color : As show\n",
      "Euclidean Distance from input image: 20.732257553062098\n",
      "Amazon Url: www.amzon.com/dp/B01JUNHBRM\n",
      "====================================================================================================\n"
     ]
    },
    {
     "data": {
      "image/jpeg": "[encoded data removed]",
      "text/plain": [
       "<IPython.core.display.Image object>"
      ]
     },
     "metadata": {},
     "output_type": "display_data"
    },
    {
     "name": "stdout",
     "output_type": "stream",
     "text": [
      "ASIN : B01KUN4VWE\n",
      "Product Title:  womans wicked musical poster shirts red xxl \n",
      "Brand : vcord\n",
      "Color : Red\n",
      "Euclidean Distance from input image: 20.770853590995387\n",
      "Amazon Url: www.amzon.com/dp/B01KUN4VWE\n",
      "====================================================================================================\n"
     ]
    },
    {
     "data": {
      "image/jpeg": "[encoded data removed]",
      "text/plain": [
       "<IPython.core.display.Image object>"
      ]
     },
     "metadata": {},
     "output_type": "display_data"
    },
    {
     "name": "stdout",
     "output_type": "stream",
     "text": [
      "ASIN : B071SBCY9W\n",
      "Product Title:  kawaii pastel tops tees baby blue flower design \n",
      "Brand : Namnoi Clothing Store\n",
      "Color : As Show\n",
      "Euclidean Distance from input image: 20.81900950345302\n",
      "Amazon Url: www.amzon.com/dp/B071SBCY9W\n",
      "====================================================================================================\n"
     ]
    },
    {
     "data": {
      "image/jpeg": "[encoded data removed]",
      "text/plain": [
       "<IPython.core.display.Image object>"
      ]
     },
     "metadata": {},
     "output_type": "display_data"
    },
    {
     "name": "stdout",
     "output_type": "stream",
     "text": [
      "ASIN : B01CUPYBM0\n",
      "Product Title:  edv cheetah run purple multi xl \n",
      "Brand : Styleco\n",
      "Color : White\n",
      "Euclidean Distance from input image: 20.877943849653942\n",
      "Amazon Url: www.amzon.com/dp/B01CUPYBM0\n",
      "====================================================================================================\n"
     ]
    },
    {
     "data": {
      "image/jpeg": "[encoded data removed]",
      "text/plain": [
       "<IPython.core.display.Image object>"
      ]
     },
     "metadata": {},
     "output_type": "display_data"
    },
    {
     "name": "stdout",
     "output_type": "stream",
     "text": [
      "ASIN : B01F7PHXY8\n",
      "Product Title:  danskin womens vneck loose performance tee xsmall pink ombre \n",
      "Brand : Danskin Now\n",
      "Color : Pink Hombre\n",
      "Euclidean Distance from input image: 20.92826849755371\n",
      "Amazon Url: www.amzon.com/dp/B01F7PHXY8\n",
      "====================================================================================================\n"
     ]
    }
   ],
   "source": [
    "def weighted_sim(doc_id, wT, wB, wC, wI,wtype, num_results):\n",
    "    # doc_id: apparel's id in given corpus\n",
    "    # wT: weight for 'title' idf-w2v features\n",
    "    # wB: weight for brand\n",
    "    # wC: weight for color features\n",
    "    # wI: weight for Images\n",
    "\n",
    "    # pairwise_dist will store the distance from given input apparel to all remaining apparels\n",
    "    # the metric we used here is cosine, the coside distance is mesured as K(X, Y) = <X, Y> / (||X||*||Y||)\n",
    "    # http://scikit-learn.org/stable/modules/metrics.html#cosine-similarity\n",
    "    doc_id1 = asins.index(df_asins[doc_id])\n",
    "    \n",
    "    title_dist  = pairwise_distances(w2v_title_weight, w2v_title_weight[doc_id].reshape(1,-1))\n",
    "    brand_dist = pairwise_distances(brand_features, brand_features[doc_id])\n",
    "    color_dist = pairwise_distances(color_features, color_features[doc_id])\n",
    "    type_dist = pairwise_distances(type_features, type_features[doc_id])\n",
    "    \n",
    "    doc_id1 = asins.index(df_asins[doc_id])\n",
    "    image_dist = pairwise_distances(bottleneck_features_train, bottleneck_features_train[doc_id1].reshape(1,-1))\n",
    "    \n",
    "    pairwise_dist = ((wT * title_dist)+(wB * brand_dist)+(wC * color_dist)+(wtype*type_dist)+\\\n",
    "                     (wI * image_dist))/float(wT+wB+wC+wtype+wI)\n",
    "\n",
    "    # np.argsort will return indices of n smallest distances\n",
    "    indices = np.argsort(pairwise_dist.flatten())[0:num_results]\n",
    "    #pdists will store the n smallest distances\n",
    "    pdists  = np.sort(pairwise_dist.flatten())[0:num_results]\n",
    "\n",
    "    #data frame indices of the n smallest distace's\n",
    "    df_indices = list(data.index[indices])\n",
    "    \n",
    "\n",
    "    for i in range(0, len(indices)):\n",
    "        rows = data[['medium_image_url','title','asin','brand','color','product_type_name']].loc[data['asin']==asins[indices[i]]]\n",
    "        for indx, row in rows.iterrows():\n",
    "            display(Image(url=row['medium_image_url'], embed=True))\n",
    "            print('ASIN :',row['asin'])\n",
    "            print('Product Title: ', row['title'])\n",
    "            print('Brand :',row['brand'])\n",
    "            print('Color :',row['color'])\n",
    "            print('Euclidean Distance from input image:', pdists[i])\n",
    "            print('Amazon Url: www.amzon.com/dp/'+ asins[indices[i]])\n",
    "        print('='*100)\n",
    "weighted_sim(12566,2,1,1,5,3,10)"
   ]
  },
  {
   "cell_type": "code",
   "execution_count": 136,
   "metadata": {},
   "outputs": [],
   "source": [
    "# Weights\n",
    "# title\n",
    "weight_range = [ii for ii in range(101)]\n",
    "\n",
    "title_weight_dropdown = widgets.Dropdown(options=weight_range, value = 2 ,description='title_wt',disabled=False)\n",
    "\n",
    "brand_weight_dropdown = widgets.Dropdown(options=weight_range, value = 1 ,description='brand_wt:',disabled=False)\n",
    "\n",
    "color_weight_dropdown = widgets.Dropdown(options=weight_range, value = 1 ,description='color_wt:',disabled=False)\n",
    "\n",
    "type_weight_dropdown = widgets.Dropdown(options=weight_range, value = 3 ,description='type_wt:',disabled=False)\n",
    "\n",
    "image_weight_dropdown = widgets.Dropdown(options=weight_range, value = 7 ,description='image_wt:',disabled=False)\n",
    "\n",
    "num_result_dropdown = widgets.Dropdown(options=weight_range, value = 12,description='# results:',disabled=False)\n",
    "\n",
    "\n"
   ]
  },
  {
   "cell_type": "code",
   "execution_count": 137,
   "metadata": {},
   "outputs": [
    {
     "data": {
      "application/vnd.jupyter.widget-view+json": {
       "model_id": "90126b0c187e4a4b9b7326056c701dd8",
       "version_major": 2,
       "version_minor": 0
      },
      "text/plain": [
       "interactive(children=(Dropdown(description='title_wt', index=2, options=(0, 1, 2, 3, 4, 5, 6, 7, 8, 9, 10, 11,…"
      ]
     },
     "metadata": {},
     "output_type": "display_data"
    },
    {
     "data": {
      "text/plain": [
       "<function __main__.weighted_sim(doc_id, wT, wB, wC, wI, wtype, num_results)>"
      ]
     },
     "execution_count": 137,
     "metadata": {},
     "output_type": "execute_result"
    }
   ],
   "source": [
    "interact(weighted_sim,\n",
    "         doc_id = fixed(1),\n",
    "         wT = title_weight_dropdown,\n",
    "         wB = brand_weight_dropdown,\n",
    "         wC = color_weight_dropdown,\n",
    "         wtype = type_weight_dropdown,\n",
    "         wI = image_weight_dropdown,\n",
    "         num_results = num_result_dropdown)"
   ]
  },
  {
   "cell_type": "code",
   "execution_count": null,
   "metadata": {},
   "outputs": [],
   "source": []
  }
 ],
 "metadata": {
  "kernelspec": {
   "display_name": "Python 3",
   "language": "python",
   "name": "python3"
  },
  "language_info": {
   "codemirror_mode": {
    "name": "ipython",
    "version": 3
   },
   "file_extension": ".py",
   "mimetype": "text/x-python",
   "name": "python",
   "nbconvert_exporter": "python",
   "pygments_lexer": "ipython3",
   "version": "3.6.4"
  }
 },
 "nbformat": 4,
 "nbformat_minor": 2
}
